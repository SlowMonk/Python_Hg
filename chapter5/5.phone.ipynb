{
 "cells": [
  {
   "cell_type": "code",
   "execution_count": null,
   "metadata": {},
   "outputs": [
    {
     "ename": "",
     "evalue": "",
     "output_type": "error",
     "traceback": [
      "\u001b[1;31mRunning cells with '/home/linuxbrew/.linuxbrew/bin/python3' requires the ipykernel package.\n",
      "\u001b[1;31mRun the following command to install 'ipykernel' into the Python environment. \n",
      "\u001b[1;31mCommand: '/home/linuxbrew/.linuxbrew/bin/python3 -m pip install ipykernel -U --user --force-reinstall'"
     ]
    }
   ],
   "source": [
    "[선택/도전 문제] 전화번호부에서 Pandas와 SQLite를 사용해봅시다.\n",
    "\n",
    "1. 내부 자료구조를 Pandas로 교체 (contact_data를 dict 대신 pandas로 저장)\n",
    "\n",
    "2. 파일로 저장할 때 json 대신 sqlite3 사용\n",
    "\n",
    "\"\"\" Pandas 힌트\n",
    "\n",
    "df의 row에 대해서 iterate하기\n",
    "\n",
    "- index 사용\n",
    "\n",
    "    for i in df.index:\n",
    "        row = df.loc[i]\n",
    "        row[\"Name\"] = ...\n",
    "- itertuple 사용\n",
    "\n",
    "    for row in df.itertuples():\n",
    "        row.Name = ...\n",
    "\"\"\"\n",
    "\n",
    "구현 예시는 아래를 드래그 하세요."
   ]
  },
  {
   "cell_type": "code",
   "execution_count": 1,
   "metadata": {},
   "outputs": [
    {
     "ename": "SyntaxError",
     "evalue": "invalid syntax (3000953828.py, line 111)",
     "output_type": "error",
     "traceback": [
      "\u001b[0;36m  Cell \u001b[0;32mIn [1], line 111\u001b[0;36m\u001b[0m\n\u001b[0;31m    * 혹시 DB 분야에 관심이 많거나 SQL 연습을 더 해보고 싶으신 분들은 Pandas도 사용하지 말고 sqlite3만 사용해보세요. 예를 들어서 새로운 사람을 추가한다면 SQL 명령문을 이용해서 DB에 직접 추가를 하는 겁니다. 구현 예시는 제공해드리지 않습니다.\u001b[0m\n\u001b[0m         ^\u001b[0m\n\u001b[0;31mSyntaxError\u001b[0m\u001b[0;31m:\u001b[0m invalid syntax\n"
     ]
    }
   ],
   "source": [
    "\n",
    "# 내부 자료구조는 pandas, 파일 저장은 sqlite3\n",
    "import os\n",
    "import pandas as pd\n",
    "import sqlite3\n",
    "\n",
    "\n",
    "def main_menu() -> int:\n",
    "    \"\"\"사용자의 입력을 받아서 검증하고 적절하다면 정수로 반환합니다.\"\"\"\n",
    "    while user_input := input(\"(1) 찾기 (2) 추가/변경 (3) 삭제 (4) 모두 보기 (5) 종료 : \"):\n",
    "        if user_input in (\"1\", \"2\", \"3\", \"4\", \"5\"):\n",
    "            return int(user_input)\n",
    "        else:\n",
    "            print(\"잘못된 명령입니다.\")\n",
    "\n",
    "\n",
    "def show_all():\n",
    "    \"\"\"모든 데이터 출력\"\"\"\n",
    "    if not len(df.index):\n",
    "        print(\"현재 등록된 연락처가 없습니다.\")\n",
    "    else:\n",
    "        # for row in df.itertuples():\n",
    "        #     print(\"{} {} {}\".format(row.Name, row.Phone, row.Email))\n",
    "        for i in df.index:\n",
    "            row = df.loc[i]\n",
    "            print(\"{} {} {}\".format(row[\"Name\"], row[\"Phone\"], row[\"Email\"]))\n",
    "\n",
    "\n",
    "def find_person():\n",
    "    \"\"\"이름을 입력받고 그 이름으로 찾아서 해당 데이터 출력\"\"\"\n",
    "    user_input = input(\"이름을 입력해주세요 : \")\n",
    "    found = df[df[\"Name\"] == user_input]\n",
    "    if len(found.index):\n",
    "        for i in found.index:\n",
    "            row = df.loc[i]\n",
    "            print(\"{} {} {}\".format(row[\"Name\"], row[\"Phone\"], row[\"Email\"]))\n",
    "    else:\n",
    "        print(f'\"{user_input}\"를 찾지 못했습니다.')\n",
    "\n",
    "\n",
    "def update_person():\n",
    "    \"\"\"사람 추가 또는 수정\n",
    "    사용자로부터 이름, 전화번호, 이메일을 입력받아서\n",
    "    이미 있는 이름이면 업데이트를 하고\n",
    "    없는 이름이면 새로 추가\n",
    "    \"\"\"\n",
    "    name = input(\"이름을 입력해주세요 : \")\n",
    "    phone = input(\"전화번호를 입력해주세요 : \")\n",
    "    email = input(\"이메일을 입력해주세요 : \")\n",
    "    found = df[df[\"Name\"] == name]\n",
    "    if len(found):  # 이미 존재하는 사람일 경우\n",
    "        for i in found.index:\n",
    "            df.loc[i] = {\"Name\": name, \"Phone\": phone, \"Email\": email}\n",
    "    else:  # 새로운 사람 등록\n",
    "        df.loc[len(df.index)] = {\"Name\": name, \"Phone\": phone, \"Email\": email}\n",
    "\n",
    "\n",
    "def delete_person():\n",
    "    \"\"\"이름을 입력받아서 데이터 삭제\"\"\"\n",
    "    user_input = input(\"이름을 입력해주세요 : \")\n",
    "    found = df[df[\"Name\"] == user_input]\n",
    "    if len(found):\n",
    "        df.drop(found.index, inplace=True)\n",
    "    else:\n",
    "        print(f'\"{user_input}\"를 찾지 못했습니다.')\n",
    "\n",
    "\n",
    "# 프로그램 실행의 시작\n",
    "# 시작할 때 저장파일이 존재하면 읽어들여서 데이터 초기화\n",
    "# 메인메뉴에서 사용자 입력을 받은 후에 알맞게 기능 수행\n",
    "# 종료할 때 데이터 저장\n",
    "\"\"\" 힌트\n",
    "df의 row에 대해서 iterate하기\n",
    "- index 사용\n",
    "    for i in df.index:\n",
    "        row = df.loc[i]\n",
    "        row[\"Name\"] = ...\n",
    "- itertuple 사용\n",
    "    for row in df.itertuples():\n",
    "        row.Name = ...\n",
    "\"\"\"\n",
    "\n",
    "\n",
    "# 전화번호부 저장용 DataFrame (전역변수)\n",
    "df = pd.DataFrame(columns=[\"Name\", \"Phone\", \"Email\"])\n",
    "\n",
    "if os.path.isfile(\"my_contact_data.sqlite\"):\n",
    "    # 저장 파일이 있을 경우 읽어서 초기화\n",
    "    con = sqlite3.connect(\"my_contact_data.sqlite\")\n",
    "    df = pd.read_sql(\"SELECT * FROM my_contact_data\", con)\n",
    "    con.close()\n",
    "\n",
    "\n",
    "# main_menu()로 받아온 사용자의 입력에 따라 함수 호출\n",
    "while (selected := main_menu()) != 5:  # 5는 종료 메뉴\n",
    "    if selected == 1:\n",
    "        find_person()\n",
    "    elif selected == 2:\n",
    "        update_person()\n",
    "    elif selected == 3:\n",
    "        delete_person()\n",
    "    elif selected == 4:\n",
    "        show_all()\n",
    "else:\n",
    "    # 종료하기 전 파일로 데이터 저장\n",
    "    con = sqlite3.connect(\"my_contact_data.sqlite\")\n",
    "    df.to_sql(\"my_contact_data\", con, if_exists=\"replace\", index=False)\n",
    "    con.close()\n",
    "    print(\"종료합니다.\")\n",
    "\n",
    "\n",
    "* 혹시 DB 분야에 관심이 많거나 SQL 연습을 더 해보고 싶으신 분들은 Pandas도 사용하지 말고 sqlite3만 사용해보세요. 예를 들어서 새로운 사람을 추가한다면 SQL 명령문을 이용해서 DB에 직접 추가를 하는 겁니다. 구현 예시는 제공해드리지 않습니다."
   ]
  },
  {
   "cell_type": "code",
   "execution_count": 2,
   "metadata": {},
   "outputs": [
    {
     "ename": "SyntaxError",
     "evalue": "invalid syntax (3929951624.py, line 1)",
     "output_type": "error",
     "traceback": [
      "\u001b[0;36m  Cell \u001b[0;32mIn [2], line 1\u001b[0;36m\u001b[0m\n\u001b[0;31m    엑셀 자동화\u001b[0m\n\u001b[0m       ^\u001b[0m\n\u001b[0;31mSyntaxError\u001b[0m\u001b[0;31m:\u001b[0m invalid syntax\n"
     ]
    }
   ],
   "source": [
    "엑셀 자동화\n",
    "openpyxl를 이용하면 파이썬에서 엑셀 파일의 내용을 바꿀 수 있습니다.강의에서 소개해드린 Pandas와 함께 사용하는 경우도 많습니다.\n",
    "한국 공공데이터 포털\n",
    "한국 공공데이터 포털로부터 다양한 데이터를 받아서 분석하거나 가시화할 수 있습니다. 제가 강의에서 소개해드린 내용을 공부하셨다면 무료 강의나 인터넷 글들만으로도 충분히 사용법을 익혀나가실 수 있을겁니다. \n",
    "물론, 본격적인 데이터사이언스는 잘 정리된 교재나 강의로 공부하시는 것이 더 효율적이겠지요.\n",
    "한국 주식 가격 데이터\n",
    "\n",
    "FinanceDataReader를 참고하세요. 사용법을 훑어보시면 낯설지 않게 적응하실 수 있을겁니다."
   ]
  },
  {
   "cell_type": "code",
   "execution_count": null,
   "metadata": {},
   "outputs": [],
   "source": []
  }
 ],
 "metadata": {
  "kernelspec": {
   "display_name": "base",
   "language": "python",
   "name": "python3"
  },
  "language_info": {
   "codemirror_mode": {
    "name": "ipython",
    "version": 3
   },
   "file_extension": ".py",
   "mimetype": "text/x-python",
   "name": "python",
   "nbconvert_exporter": "python",
   "pygments_lexer": "ipython3",
   "version": "3.8.3"
  },
  "orig_nbformat": 4,
  "vscode": {
   "interpreter": {
    "hash": "d4d1e4263499bec80672ea0156c357c1ee493ec2b1c70f0acce89fc37c4a6abe"
   }
  }
 },
 "nbformat": 4,
 "nbformat_minor": 2
}
