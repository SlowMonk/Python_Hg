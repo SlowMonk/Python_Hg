{
 "cells": [
  {
   "cell_type": "code",
   "execution_count": null,
   "metadata": {},
   "outputs": [],
   "source": [
    "from surroLab.detection.models as SURRO_DETECTION\n",
    "\n",
    "if args.model_name in globals():\n",
    "    model = SURRO_DETECTION[args.model_name]\n",
    "    model.config = args.model_config"
   ]
  }
 ],
 "metadata": {
  "language_info": {
   "name": "python"
  },
  "orig_nbformat": 4
 },
 "nbformat": 4,
 "nbformat_minor": 2
}
