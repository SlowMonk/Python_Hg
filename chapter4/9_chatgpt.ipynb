{
 "cells": [
  {
   "cell_type": "code",
   "execution_count": null,
   "metadata": {},
   "outputs": [],
   "source": [
    "# pip uninstall numpy # 기존 numpy 제거\n",
    "# pip install numpy==1.21.0  # 최신 버전보다 낮게\n",
    "# pip install sh==1.14.2 # 최신 버전보다 낮게\n",
    "# pip install parlai==1.5.1 # 1.6도 설치 확인\n",
    "#https://openai.com/product\n",
    "#ParlAI"
   ]
  }
 ],
 "metadata": {
  "language_info": {
   "name": "python"
  },
  "orig_nbformat": 4
 },
 "nbformat": 4,
 "nbformat_minor": 2
}
