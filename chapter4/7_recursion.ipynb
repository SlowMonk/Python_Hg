{
 "cells": [
  {
   "cell_type": "code",
   "execution_count": 1,
   "metadata": {},
   "outputs": [
    {
     "name": "stdout",
     "output_type": "stream",
     "text": [
      "func1\n",
      "func2\n"
     ]
    }
   ],
   "source": [
    "#재귀호출\n",
    "def func1():\n",
    "    print('func1')\n",
    "\n",
    "def func2():\n",
    "    func1()\n",
    "    print('func2')\n",
    "\n",
    "func2()"
   ]
  },
  {
   "cell_type": "code",
   "execution_count": 3,
   "metadata": {},
   "outputs": [
    {
     "name": "stdout",
     "output_type": "stream",
     "text": [
      "1\n",
      "2\n",
      "3\n",
      "4\n"
     ]
    }
   ],
   "source": [
    "# 자기 자신을 호출하는거같지만 자기 자신을 계속 호출하고 있다 \n",
    "def func1(i):\n",
    "    i-=1\n",
    "    if i==0: return 0\n",
    "     u nc1(i)rtyfv97ikm,    u    g  c v \n",
    "    print(i)\n",
    "func1(5)"
   ]
  },
  {
   "cell_type": "code",
   "execution_count": 11,
   "metadata": {},
   "outputs": [],
   "source": [
    "# 팩토리얼\n",
    "#n = 0 인경우에는 f(n) = 1\n",
    "# n>= 1인경우에는 f(n)= n x f(n-1)\n",
    "#예상 출력 1 1 2 6 24 120 720 5040 40320 362880 3628800\n",
    "\n",
    "def factorial(n):\n",
    "    if n ==0: return 1\n",
    "    else: return n * factorial(n-1)\n",
    "    print(n)"
   ]
  },
  {
   "cell_type": "code",
   "execution_count": 13,
   "metadata": {},
   "outputs": [
    {
     "name": "stdout",
     "output_type": "stream",
     "text": [
      "1 1 2 6 24 120 720 5040 40320 362880 3628800 "
     ]
    }
   ],
   "source": [
    "for n in range(0,11):\n",
    "    print(factorial(n), end= \" \")"
   ]
  },
  {
   "cell_type": "code",
   "execution_count": null,
   "metadata": {},
   "outputs": [],
   "source": [
    "#피보나치 수열 \n",
    "#n 번쨰 피보나치 수를 계산해주는 함수를 f(n)이라고 한다면 "
   ]
  },
  {
   "cell_type": "code",
   "execution_count": 16,
   "metadata": {},
   "outputs": [
    {
     "name": "stdout",
     "output_type": "stream",
     "text": [
      "2023, 3, 2\n"
     ]
    }
   ],
   "source": [
    "from datetime import datetime\n",
    "\n",
    "def pritn_date():\n",
    "    today = datetime.today()\n",
    "    print(f'{today.year}, {today.month}, {today.day}')\n",
    "\n",
    "def do_something(my_func):\n",
    "    my_func()\n",
    "\n",
    "do_something(pritn_date)"
   ]
  },
  {
   "cell_type": "code",
   "execution_count": 18,
   "metadata": {},
   "outputs": [
    {
     "name": "stdout",
     "output_type": "stream",
     "text": [
      "what can I do for you?\n"
     ]
    }
   ],
   "source": [
    "# closure\n",
    "# 내부적으로 정의된 안쪽에서 계속 사용되어지는 변수를 closure라고 한다. \n",
    "def func_maker(message):\n",
    "    def spearker():\n",
    "        print(message)\n",
    "    return spearker\n",
    "\n",
    "my_func = func_maker(\"what can I do for you?\")\n",
    "my_func() #spearker()에 인수가 없기 때문에 my_func()도 인수 없이 사용"
   ]
  },
  {
   "cell_type": "code",
   "execution_count": null,
   "metadata": {},
   "outputs": [],
   "source": []
  }
 ],
 "metadata": {
  "kernelspec": {
   "display_name": "base",
   "language": "python",
   "name": "python3"
  },
  "language_info": {
   "codemirror_mode": {
    "name": "ipython",
    "version": 3
   },
   "file_extension": ".py",
   "mimetype": "text/x-python",
   "name": "python",
   "nbconvert_exporter": "python",
   "pygments_lexer": "ipython3",
   "version": "3.8.3"
  },
  "orig_nbformat": 4,
  "vscode": {
   "interpreter": {
    "hash": "d4d1e4263499bec80672ea0156c357c1ee493ec2b1c70f0acce89fc37c4a6abe"
   }
  }
 },
 "nbformat": 4,
 "nbformat_minor": 2
}
