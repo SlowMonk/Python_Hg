{
 "cells": [
  {
   "cell_type": "code",
   "execution_count": 3,
   "metadata": {},
   "outputs": [],
   "source": [
    "# 객체함수 변수함수\n",
    "# 기본값의 객체가 계속 재사용됩니다\n",
    "def f(a, my_list = []):\n",
    "    my_list.append(a)\n",
    "    return my_list"
   ]
  },
  {
   "cell_type": "code",
   "execution_count": 2,
   "metadata": {},
   "outputs": [
    {
     "name": "stdout",
     "output_type": "stream",
     "text": [
      "[1]\n",
      "[1, 2]\n",
      "[1, 2, 3]\n"
     ]
    }
   ],
   "source": [
    "print(f(1))\n",
    "print(f(2))\n",
    "print(f(3))"
   ]
  },
  {
   "cell_type": "code",
   "execution_count": 4,
   "metadata": {},
   "outputs": [
    {
     "name": "stdout",
     "output_type": "stream",
     "text": [
      "1\n",
      "100\n",
      "100\n"
     ]
    }
   ],
   "source": [
    "#주피터 노트북에서는 위에 결과가 밑에 남아있다 \n",
    "# restart를 해줘야 한다. \n",
    "# 변수의 범위scope\n",
    "# global 변수와 local variable 둘이 이름이 동일하다면 local variable만 사용한다. \n",
    "y = 7\n",
    "def my_func():\n",
    "    x = 1#  지역변수\n",
    "\n",
    "def my_func2():\n",
    "    print(y, id(y))\n",
    "\n",
    "def my_func():\n",
    "    global x\n",
    "    x = 100\n",
    "    print(x)\n",
    "x = 1\n",
    "\n",
    "print(x)\n",
    "my_func()\n",
    "\n",
    "print(x) # 함수안에서  변경한 결곽가 유지 \n",
    "# 매개변수와 return값을 정확히 정의하는것이 필요하다. "
   ]
  },
  {
   "cell_type": "code",
   "execution_count": 5,
   "metadata": {},
   "outputs": [
    {
     "name": "stdout",
     "output_type": "stream",
     "text": [
      "3\n"
     ]
    }
   ],
   "source": [
    "# quiz\n",
    "# 매개ㅐ변수 b의 기본값이 전역변수 a입니다. \n",
    "a = 1\n",
    "def my_func(a, b=a):\n",
    "    return a+b\n",
    "\n",
    "print(my_func(2))"
   ]
  },
  {
   "cell_type": "code",
   "execution_count": 7,
   "metadata": {},
   "outputs": [
    {
     "name": "stdout",
     "output_type": "stream",
     "text": [
      "(1, 2, 3)\n"
     ]
    }
   ],
   "source": [
    "# quiz\n",
    "# 함수 안에서 args를 언팩해주지 않았기 때문에 튜플 하나로 출력됩니다. print(*args)였다면 1 2 3 이 출력되었을겁니다.\n",
    "def print_many(*args):\n",
    "    print(args)\n",
    "\n",
    "print_many(1,2,3)"
   ]
  },
  {
   "cell_type": "code",
   "execution_count": 10,
   "metadata": {},
   "outputs": [
    {
     "name": "stdout",
     "output_type": "stream",
     "text": [
      "a b\n",
      "1 2\n"
     ]
    }
   ],
   "source": [
    "def print_many(a, b):\n",
    "    print(a, b)\n",
    "\n",
    "print_many(*{\"a\":1, \"b\":2})\n",
    "print_many(**{\"a\":1, \"b\":2})"
   ]
  },
  {
   "cell_type": "code",
   "execution_count": 11,
   "metadata": {},
   "outputs": [
    {
     "name": "stdout",
     "output_type": "stream",
     "text": [
      "None\n"
     ]
    }
   ],
   "source": [
    "def my_func():\n",
    "    pass\n",
    "\n",
    "print(my_func())"
   ]
  },
  {
   "cell_type": "code",
   "execution_count": 13,
   "metadata": {},
   "outputs": [
    {
     "name": "stdout",
     "output_type": "stream",
     "text": [
      "<class 'tuple'>\n"
     ]
    }
   ],
   "source": [
    "#여러 개의 반환값들(보다 정확히는 반환 객체들)이 여러 개일 경우에는 내부적으로 튜플로 묶어서 반환합니다.\n",
    "def my_func():\n",
    "    return 1,2\n",
    "\n",
    "print(type(my_func()))"
   ]
  },
  {
   "cell_type": "code",
   "execution_count": 14,
   "metadata": {},
   "outputs": [
    {
     "name": "stdout",
     "output_type": "stream",
     "text": [
      "['HI']\n"
     ]
    }
   ],
   "source": [
    "my_list = ['HI']\n",
    "\n",
    "def my_func(my_list):\n",
    "    my_list = 1\n",
    "\n",
    "my_func(my_list)\n",
    "print(my_list)"
   ]
  },
  {
   "cell_type": "code",
   "execution_count": 16,
   "metadata": {},
   "outputs": [
    {
     "name": "stdout",
     "output_type": "stream",
     "text": [
      "[1, 2, 3]\n"
     ]
    }
   ],
   "source": [
    "# 기본값의 가변 객ㄱ체는 처음 만들어진 후에 게속 재사용됩니다. \n",
    "def my_func(a, my_list = []):\n",
    "    my_list.append(a)\n",
    "    return my_list\n",
    "\n",
    "my_func(1)\n",
    "my_func(2)\n",
    "print(my_func(3))"
   ]
  },
  {
   "cell_type": "code",
   "execution_count": 18,
   "metadata": {},
   "outputs": [
    {
     "name": "stdout",
     "output_type": "stream",
     "text": [
      "False\n"
     ]
    }
   ],
   "source": [
    "#지역 변수와 전역변수의 차이입니다. \n",
    "x = []\n",
    "\n",
    "def my_func():\n",
    "    x = []\n",
    "    return id(x)\n",
    "\n",
    "print(id(x) == my_func())"
   ]
  },
  {
   "cell_type": "code",
   "execution_count": 19,
   "metadata": {},
   "outputs": [
    {
     "name": "stdout",
     "output_type": "stream",
     "text": [
      "True\n"
     ]
    }
   ],
   "source": [
    "# 내부적으로 값이 같은 불변 객체들은 재사용합니다. \n",
    "x= 123\n",
    "\n",
    "def my_func():\n",
    "    y= 123\n",
    "    return id(y)\n",
    "\n",
    "print(id(x) == my_func())"
   ]
  },
  {
   "cell_type": "code",
   "execution_count": null,
   "metadata": {},
   "outputs": [],
   "source": []
  }
 ],
 "metadata": {
  "kernelspec": {
   "display_name": "base",
   "language": "python",
   "name": "python3"
  },
  "language_info": {
   "codemirror_mode": {
    "name": "ipython",
    "version": 3
   },
   "file_extension": ".py",
   "mimetype": "text/x-python",
   "name": "python",
   "nbconvert_exporter": "python",
   "pygments_lexer": "ipython3",
   "version": "3.8.3"
  },
  "orig_nbformat": 4,
  "vscode": {
   "interpreter": {
    "hash": "d4d1e4263499bec80672ea0156c357c1ee493ec2b1c70f0acce89fc37c4a6abe"
   }
  }
 },
 "nbformat": 4,
 "nbformat_minor": 2
}
