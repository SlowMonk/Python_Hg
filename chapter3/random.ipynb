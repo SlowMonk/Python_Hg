{
 "cells": [
  {
   "cell_type": "code",
   "execution_count": 1,
   "metadata": {},
   "outputs": [
    {
     "data": {
      "text/plain": [
       "1"
      ]
     },
     "execution_count": 1,
     "metadata": {},
     "output_type": "execute_result"
    }
   ],
   "source": [
    "import random\n",
    "random.randrange(1,7,2)"
   ]
  },
  {
   "cell_type": "code",
   "execution_count": 5,
   "metadata": {},
   "outputs": [
    {
     "data": {
      "text/plain": [
       "2"
      ]
     },
     "execution_count": 5,
     "metadata": {},
     "output_type": "execute_result"
    }
   ],
   "source": [
    "random.seed(1)\n",
    "random.randint(1,6)"
   ]
  },
  {
   "cell_type": "code",
   "execution_count": 7,
   "metadata": {},
   "outputs": [
    {
     "data": {
      "text/plain": [
       "0.48367080936783036"
      ]
     },
     "execution_count": 7,
     "metadata": {},
     "output_type": "execute_result"
    }
   ],
   "source": [
    "random.gauss(0.5, 0.01)"
   ]
  },
  {
   "cell_type": "code",
   "execution_count": 9,
   "metadata": {},
   "outputs": [
    {
     "data": {
      "text/plain": [
       "3"
      ]
     },
     "execution_count": 9,
     "metadata": {},
     "output_type": "execute_result"
    }
   ],
   "source": [
    "eval(\"1+2\")"
   ]
  },
  {
   "cell_type": "code",
   "execution_count": 10,
   "metadata": {},
   "outputs": [
    {
     "name": "stdout",
     "output_type": "stream",
     "text": [
      "1. eval('\"BlockDMask\"' + '\" blog\"') : BlockDMaskblog\n",
      "2. eval(\"100 + 32\") : 132\n",
      "3. eval(\"abs(-56)\") : 56\n",
      "4. eval(\"len([1,2,3,4])\") : 4\n",
      "5. eval(\"round(1.5)\") : 2\n"
     ]
    }
   ],
   "source": [
    "# 파이썬 eval(expression) 예제\n",
    " \n",
    "# 1. 문자열 덧셈\n",
    "a = eval('\"BlockDMask\" + \"blog\"')\n",
    "print(f\"1. eval('\\\"BlockDMask\\\"' + '\\\" blog\\\"') : {a}\")\n",
    " \n",
    "# 2. 숫자 덧셈\n",
    "b = eval(\"100 + 32\")\n",
    "print(f'2. eval(\"100 + 32\") : {b}')\n",
    " \n",
    "# 3. 내장 함수 abs\n",
    "c = eval(\"abs(-56)\")\n",
    "print(f'3. eval(\"abs(-56)\") : {c}')\n",
    " \n",
    "# 4. 리스트 길이\n",
    "d = eval(\"len([1,2,3,4])\")\n",
    "print(f'4. eval(\"len([1,2,3,4])\") : {d}')\n",
    " \n",
    "# 5. round 함수\n",
    "e = eval(\"round(1.5)\")\n",
    "print(f'5. eval(\"round(1.5)\") : {e}')\n",
    " "
   ]
  },
  {
   "cell_type": "code",
   "execution_count": null,
   "metadata": {},
   "outputs": [],
   "source": []
  }
 ],
 "metadata": {
  "kernelspec": {
   "display_name": "Python 3",
   "language": "python",
   "name": "python3"
  },
  "language_info": {
   "codemirror_mode": {
    "name": "ipython",
    "version": 3
   },
   "file_extension": ".py",
   "mimetype": "text/x-python",
   "name": "python",
   "nbconvert_exporter": "python",
   "pygments_lexer": "ipython3",
   "version": "3.9.6"
  },
  "orig_nbformat": 4,
  "vscode": {
   "interpreter": {
    "hash": "31f2aee4e71d21fbe5cf8b01ff0e069b9275f58929596ceb00d14d90e3e16cd6"
   }
  }
 },
 "nbformat": 4,
 "nbformat_minor": 2
}
