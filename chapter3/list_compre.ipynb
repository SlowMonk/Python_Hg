{
 "cells": [
  {
   "cell_type": "code",
   "execution_count": 2,
   "metadata": {},
   "outputs": [
    {
     "data": {
      "text/plain": [
       "[1, 4, 9, 16]"
      ]
     },
     "execution_count": 2,
     "metadata": {},
     "output_type": "execute_result"
    }
   ],
   "source": [
    "mylist = [x**2 for x in [1,2,3,4]]\n",
    "mylist"
   ]
  },
  {
   "cell_type": "code",
   "execution_count": 3,
   "metadata": {},
   "outputs": [
    {
     "data": {
      "text/plain": [
       "(1, 4, 9)"
      ]
     },
     "execution_count": 3,
     "metadata": {},
     "output_type": "execute_result"
    }
   ],
   "source": [
    "tuple(x**2 for x in [1,2,3])"
   ]
  },
  {
   "cell_type": "code",
   "execution_count": 7,
   "metadata": {},
   "outputs": [
    {
     "data": {
      "text/plain": [
       "[32.0, 50.0, 77.0, 86.9]"
      ]
     },
     "execution_count": 7,
     "metadata": {},
     "output_type": "execute_result"
    }
   ],
   "source": [
    "celsius = [0, 10, 25, 30.5]\n",
    "[x * 9/5 + 32 for x in celsius]"
   ]
  },
  {
   "cell_type": "code",
   "execution_count": 8,
   "metadata": {},
   "outputs": [
    {
     "name": "stdout",
     "output_type": "stream",
     "text": [
      "80초는 1분 20초 입니다.\n"
     ]
    }
   ],
   "source": [
    "input_seconds = 80\n",
    "minutes = input_seconds // 60\n",
    "seconds = input_seconds % 60\n",
    "print(f\"{input_seconds}초는 {minutes}분 {seconds}초 입니다.\")"
   ]
  },
  {
   "cell_type": "code",
   "execution_count": 9,
   "metadata": {},
   "outputs": [
    {
     "name": "stdout",
     "output_type": "stream",
     "text": [
      "80초는 1분 20초 입니다.\n"
     ]
    }
   ],
   "source": [
    "input_seconds = 80\n",
    "minutes, seconds = divmod(input_seconds, 60)\n",
    "print(f\"{input_seconds}초는 {minutes}분 {seconds}초 입니다.\")"
   ]
  },
  {
   "cell_type": "code",
   "execution_count": 10,
   "metadata": {},
   "outputs": [
    {
     "name": "stdout",
     "output_type": "stream",
     "text": [
      "2023-02-07 08:20:41.401413\n",
      "2023-02-07 08:20:42.404582\n",
      "2023-02-07 08:20:43.407797\n",
      "2023-02-07 08:20:44.412867\n",
      "2023-02-07 08:20:45.416107\n"
     ]
    }
   ],
   "source": [
    "import time\n",
    "import datetime\n",
    "start_time = time.time()  # 시작 조건\n",
    "while time.time() - start_time < 5:  # 시간이 흐름에 따라 조건이 변화\n",
    "    print(datetime.datetime.now())\n",
    "    time.sleep(1)\n",
    "\n"
   ]
  },
  {
   "cell_type": "code",
   "execution_count": 11,
   "metadata": {},
   "outputs": [
    {
     "name": "stdout",
     "output_type": "stream",
     "text": [
      "Passed all tests\n"
     ]
    }
   ],
   "source": [
    "import calendar\n",
    "for year in range(1, 4001): #1년부터 4000년까지 테스트\n",
    " \n",
    "    is_leap = None # 윤년 판별 알고리즘을 아래에 구현한 후에는 삭제 가능\n",
    "    if year % 4 == 0:\n",
    "        if year % 100 == 0:\n",
    "            if year % 400 == 0:\n",
    "                is_leap = True\n",
    "            else:\n",
    "                is_leap = False\n",
    "        else:\n",
    "            is_leap = True\n",
    "    else:\n",
    "        is_leap = False\n",
    "    if calendar.isleap(year) != is_leap:\n",
    "        print(\"Error\", year)\n",
    "        break\n",
    "else:\n",
    "    print(\"Passed all tests\")\n"
   ]
  },
  {
   "cell_type": "code",
   "execution_count": 12,
   "metadata": {},
   "outputs": [
    {
     "name": "stdout",
     "output_type": "stream",
     "text": [
      "Passed all tests\n"
     ]
    }
   ],
   "source": [
    "\n",
    "import calendar\n",
    "for year in range(1, 4001):\n",
    " \n",
    "    is_leap = year % 4 == 0 and (year % 100 != 0 or year % 400 == 0)\n",
    "    if calendar.isleap(year) != is_leap:\n",
    "        print(\"Error\", year)\n",
    "        break\n",
    "else:\n",
    "    print(\"Passed all tests\")\n"
   ]
  },
  {
   "cell_type": "code",
   "execution_count": null,
   "metadata": {},
   "outputs": [],
   "source": []
  }
 ],
 "metadata": {
  "kernelspec": {
   "display_name": "Python 3",
   "language": "python",
   "name": "python3"
  },
  "language_info": {
   "codemirror_mode": {
    "name": "ipython",
    "version": 3
   },
   "file_extension": ".py",
   "mimetype": "text/x-python",
   "name": "python",
   "nbconvert_exporter": "python",
   "pygments_lexer": "ipython3",
   "version": "3.9.6"
  },
  "orig_nbformat": 4,
  "vscode": {
   "interpreter": {
    "hash": "31f2aee4e71d21fbe5cf8b01ff0e069b9275f58929596ceb00d14d90e3e16cd6"
   }
  }
 },
 "nbformat": 4,
 "nbformat_minor": 2
}
