{
 "cells": [
  {
   "cell_type": "code",
   "execution_count": 2,
   "metadata": {},
   "outputs": [
    {
     "data": {
      "text/plain": [
       "[1, 4, 9, 16]"
      ]
     },
     "execution_count": 2,
     "metadata": {},
     "output_type": "execute_result"
    }
   ],
   "source": [
    "mylist = [x**2 for x in [1,2,3,4]]\n",
    "mylist"
   ]
  },
  {
   "cell_type": "code",
   "execution_count": 3,
   "metadata": {},
   "outputs": [
    {
     "data": {
      "text/plain": [
       "(1, 4, 9)"
      ]
     },
     "execution_count": 3,
     "metadata": {},
     "output_type": "execute_result"
    }
   ],
   "source": [
    "tuple(x**2 for x in [1,2,3])"
   ]
  },
  {
   "cell_type": "code",
   "execution_count": 7,
   "metadata": {},
   "outputs": [
    {
     "data": {
      "text/plain": [
       "[32.0, 50.0, 77.0, 86.9]"
      ]
     },
     "execution_count": 7,
     "metadata": {},
     "output_type": "execute_result"
    }
   ],
   "source": [
    "celsius = [0, 10, 25, 30.5]\n",
    "[x * 9/5 + 32 for x in celsius]"
   ]
  },
  {
   "cell_type": "code",
   "execution_count": 8,
   "metadata": {},
   "outputs": [
    {
     "name": "stdout",
     "output_type": "stream",
     "text": [
      "80초는 1분 20초 입니다.\n"
     ]
    }
   ],
   "source": [
    "input_seconds = 80\n",
    "minutes = input_seconds // 60\n",
    "seconds = input_seconds % 60\n",
    "print(f\"{input_seconds}초는 {minutes}분 {seconds}초 입니다.\")"
   ]
  },
  {
   "cell_type": "code",
   "execution_count": 9,
   "metadata": {},
   "outputs": [
    {
     "name": "stdout",
     "output_type": "stream",
     "text": [
      "80초는 1분 20초 입니다.\n"
     ]
    }
   ],
   "source": [
    "input_seconds = 80\n",
    "minutes, seconds = divmod(input_seconds, 60)\n",
    "print(f\"{input_seconds}초는 {minutes}분 {seconds}초 입니다.\")"
   ]
  },
  {
   "cell_type": "code",
   "execution_count": 10,
   "metadata": {},
   "outputs": [
    {
     "name": "stdout",
     "output_type": "stream",
     "text": [
      "2023-02-07 08:20:41.401413\n",
      "2023-02-07 08:20:42.404582\n",
      "2023-02-07 08:20:43.407797\n",
      "2023-02-07 08:20:44.412867\n",
      "2023-02-07 08:20:45.416107\n"
     ]
    }
   ],
   "source": [
    "import time\n",
    "import datetime\n",
    "start_time = time.time()  # 시작 조건\n",
    "while time.time() - start_time < 5:  # 시간이 흐름에 따라 조건이 변화\n",
    "    print(datetime.datetime.now())\n",
    "    time.sleep(1)\n",
    "\n"
   ]
  },
  {
   "cell_type": "code",
   "execution_count": 11,
   "metadata": {},
   "outputs": [
    {
     "name": "stdout",
     "output_type": "stream",
     "text": [
      "Passed all tests\n"
     ]
    }
   ],
   "source": [
    "import calendar\n",
    "for year in range(1, 4001): #1년부터 4000년까지 테스트\n",
    " \n",
    "    is_leap = None # 윤년 판별 알고리즘을 아래에 구현한 후에는 삭제 가능\n",
    "    if year % 4 == 0:\n",
    "        if year % 100 == 0:\n",
    "            if year % 400 == 0:\n",
    "                is_leap = True\n",
    "            else:\n",
    "                is_leap = False\n",
    "        else:\n",
    "            is_leap = True\n",
    "    else:\n",
    "        is_leap = False\n",
    "    if calendar.isleap(year) != is_leap:\n",
    "        print(\"Error\", year)\n",
    "        break\n",
    "else:\n",
    "    print(\"Passed all tests\")\n"
   ]
  },
  {
   "cell_type": "code",
   "execution_count": 12,
   "metadata": {},
   "outputs": [
    {
     "name": "stdout",
     "output_type": "stream",
     "text": [
      "Passed all tests\n"
     ]
    }
   ],
   "source": [
    "\n",
    "import calendar\n",
    "for year in range(1, 4001):\n",
    " \n",
    "    is_leap = year % 4 == 0 and (year % 100 != 0 or year % 400 == 0)\n",
    "    if calendar.isleap(year) != is_leap:\n",
    "        print(\"Error\", year)\n",
    "        break\n",
    "else:\n",
    "    print(\"Passed all tests\")\n"
   ]
  },
  {
   "cell_type": "code",
   "execution_count": 23,
   "metadata": {},
   "outputs": [],
   "source": [
    "# matrix\n",
    "matrix = [\n",
    "    [1,2,3,4],\n",
    "    [5,6,7,8],\n",
    "    [9,10,11,12]\n",
    "\n",
    "]"
   ]
  },
  {
   "cell_type": "code",
   "execution_count": 30,
   "metadata": {},
   "outputs": [
    {
     "data": {
      "text/plain": [
       "[1, 6, 11]"
      ]
     },
     "execution_count": 30,
     "metadata": {},
     "output_type": "execute_result"
    }
   ],
   "source": [
    "[m[idx] for idx, m in enumerate(matrix)]"
   ]
  },
  {
   "cell_type": "code",
   "execution_count": 31,
   "metadata": {},
   "outputs": [
    {
     "data": {
      "text/plain": [
       "[[1, 5, 9], [2, 6, 10], [3, 7, 11], [4, 8, 12]]"
      ]
     },
     "execution_count": 31,
     "metadata": {},
     "output_type": "execute_result"
    }
   ],
   "source": [
    "[[row[i] for row in matrix] for i in range(4)]"
   ]
  },
  {
   "cell_type": "code",
   "execution_count": 33,
   "metadata": {},
   "outputs": [
    {
     "ename": "SyntaxError",
     "evalue": "invalid syntax (572921013.py, line 2)",
     "output_type": "error",
     "traceback": [
      "\u001b[0;36m  Cell \u001b[0;32mIn[33], line 2\u001b[0;36m\u001b[0m\n\u001b[0;31m    1. 이번에도 드래그 하시면 답을 보실 수 있습니다.\u001b[0m\n\u001b[0m       ^\u001b[0m\n\u001b[0;31mSyntaxError\u001b[0m\u001b[0;31m:\u001b[0m invalid syntax\n"
     ]
    }
   ],
   "source": [
    "# answer\n",
    "1. 이번에도 드래그 하시면 답을 보실 수 있습니다.\n",
    "\n",
    "\n",
    "[문제]  주어진 섭씨 온도(Celsius)의 리스트를 화씨(Fahrenheit) 온도의 리스트로 변경\n",
    "\n",
    "celsius = [0, 10, 25, 30.5]\n",
    "[x * 9/5 + 32 for x in celsius]\n",
    "\n",
    "[문제] 1 부터 10까지의 정수 중에서 짝수의 제곱만 리스트로 만드세요\n",
    "\n",
    "[x*x for x in range(1, 11) if x % 2 == 0]\n",
    "\n",
    "[문제] 주어진 문자열의 리스트에서 소문자 a가 들어 있는 단어들만 모두 대문자로 바꿔서 리스트를 만드세요.\n",
    "\n",
    "my_list = ['hello', 'Apple', 'banana', 'Cherry', 'crash', 'mathematics']\n",
    "[x.upper() for x in my_list if 'a' in x]\n",
    "\n",
    "\n",
    "추가문제: 소문자 a 또는 대문자 A가 들어 있는 단어들을 모두 대문자로 바꿔서 리스트를 만드세요.\n",
    "\n",
    "[x.upper() for x in my_list if 'a' in x or 'A' in x]\n",
    "이때 조건을 if 'a' or 'A' in x 로 주게 되면 'a'가 항상 True로 계산되기 때문에 모든 아이템들이 대문자로 바뀝니다.\n",
    "[문제] 전치 행렬\n",
    "\n",
    "matrix = [\n",
    "    [1, 2, 3, 4],\n",
    "    [5, 6, 7, 8],\n",
    "    [9, 10, 11, 12],\n",
    "]\n",
    "[[row[i] for row in matrix] for i in range(4)]\n",
    "\n",
    "[문제] 자리수 합치기\n",
    "\n",
    "num = 1357\n",
    "while len(str(num)) > 1:\n",
    "    print(num)\n",
    "    num = sum([int(x) for x in str(num)])\n",
    "else:\n",
    "    print(num)\n",
    "\n",
    "[문제] 숫자에 세 자리마다 컴마 넣기\n",
    "\n",
    "\n",
    "\n",
    "input_number = 1234567\n",
    "str_num = str(input_number)[::-1]\n",
    "splitted = [str_num[i:i+3] for i in range(0, len(str_num), 3)]\n",
    "\",\".join(splitted)[::-1]\n",
    "\n",
    "2. 보충\n",
    "뒤에서 함수를 배운 후에는 List comprehention 디버깅에 함수를 사용하면 편합니다. 다만, 매번 이렇게 디버깅 과정을 거치는 것은 효율이 떨어지기 때문에 강의에서 제시한 연습문제 정도는 규칙을 따져보거나 for 문으로 풀어보거나 하면서 연습하는 것을 권장합니다.\n",
    "\n",
    "예시)\n",
    "\n",
    "def debug(x):\n",
    "    result = x**2\n",
    "    print(x, result)\n",
    "    return result\n",
    "\n",
    "my_list = [debug(x) for x in [1, 2, 3, 4]]"
   ]
  },
  {
   "cell_type": "code",
   "execution_count": null,
   "metadata": {},
   "outputs": [],
   "source": []
  }
 ],
 "metadata": {
  "kernelspec": {
   "display_name": "Python 3",
   "language": "python",
   "name": "python3"
  },
  "language_info": {
   "codemirror_mode": {
    "name": "ipython",
    "version": 3
   },
   "file_extension": ".py",
   "mimetype": "text/x-python",
   "name": "python",
   "nbconvert_exporter": "python",
   "pygments_lexer": "ipython3",
   "version": "3.9.6"
  },
  "orig_nbformat": 4,
  "vscode": {
   "interpreter": {
    "hash": "31f2aee4e71d21fbe5cf8b01ff0e069b9275f58929596ceb00d14d90e3e16cd6"
   }
  }
 },
 "nbformat": 4,
 "nbformat_minor": 2
}
