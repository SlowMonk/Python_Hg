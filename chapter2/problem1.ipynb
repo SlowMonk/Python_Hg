{
 "cells": [
  {
   "cell_type": "code",
   "execution_count": null,
   "metadata": {},
   "outputs": [],
   "source": [
    "num = int(input(\"정수를 입력해주세요:\"))\n",
    "\n",
    "# if로만 풀기\n",
    "\n",
    "if num == 1:\n",
    "    print(\"숫자 1입니다.\")\n",
    "\n",
    "if not (num == 1) and (num == 2):\n",
    "    print(\"숫자 2입니다.\")\n",
    "\n",
    "if not (num == 1) and not (num == 2):\n",
    "    print(\"모르는 숫자입니다.\")"
   ]
  },
  {
   "cell_type": "code",
   "execution_count": null,
   "metadata": {},
   "outputs": [],
   "source": [
    "num = int(input(\"정수를 입력해주세요:\"))\n",
    "\n",
    "# if로만 풀기: 조건식에 != 사용\n",
    "\n",
    "if num == 1:\n",
    "    print(\"숫자 1입니다.\")\n",
    "\n",
    "if num != 1 and num == 2:\n",
    "    print(\"숫자 2입니다.\")\n",
    "\n",
    "if num != 1 and num != 2:\n",
    "    print(\"모르는 숫자입니다.\")\n",
    "\n",
    " # 여기서 \"if num != 1 and num != 2:\" 와 \"if not (num == 1) and not (num == 2):\"는 동일한데 수학에서는 '드 모르간 법칙'이라고 부릅니다."
   ]
  },
  {
   "cell_type": "code",
   "execution_count": null,
   "metadata": {},
   "outputs": [],
   "source": [
    "num = int(input(\"정수를 입력해주세요:\"))\n",
    "\n",
    "# if-else만 사용하기\n",
    "if num == 1:\n",
    "    print(\"숫자 1입니다.\")\n",
    "else:\n",
    "    if num == 2:\n",
    "        print(\"숫자 2입니다.\")\n",
    "    else:\n",
    "        print(\"모르는 숫자입니다.\")"
   ]
  },
  {
   "cell_type": "code",
   "execution_count": null,
   "metadata": {},
   "outputs": [],
   "source": [
    "num = int(input(\"정수를 입력해주세요:\"))\n",
    "\n",
    "# if-else만 사용하는 또 다른 방법\n",
    "if num == 1 or num == 2:\n",
    "    if num == 1:\n",
    "        print(\"숫자 1입니다.\")\n",
    "    else: # 첫 if로 1과 2만 걸러냈기 때문에 여기서는 항상 2\n",
    "        print(\"숫자 2입니다.\")\n",
    "else:\n",
    "    print(\"모르는 숫자입니다.\")\n",
    "\n",
    "\n"
   ]
  },
  {
   "cell_type": "code",
   "execution_count": null,
   "metadata": {},
   "outputs": [],
   "source": [
    "num = int(input(\"정수를 입력해주세요:\"))\n",
    "\n",
    "# 강의대로 if-elif-else 사용\n",
    "if num == 1:\n",
    "    print(\"숫자 1입니다.\")\n",
    "elif num == 2:\n",
    "    print(\"숫자 2입니다.\")\n",
    "else:\n",
    "    print(\"모르는 숫자입니다.\")\n",
    "\n",
    "# 가장 간결하고 비교 연산자도 적게 사용합니다."
   ]
  }
 ],
 "metadata": {
  "interpreter": {
   "hash": "4f3b078249380ea762697f4f8f6aea77b3d6e43cbb1b18cbb73d8cde5aa597e7"
  },
  "kernelspec": {
   "display_name": "Python 3.9.7 64-bit (system)",
   "language": "python",
   "name": "python3"
  },
  "language_info": {
   "codemirror_mode": {
    "name": "ipython",
    "version": 3
   },
   "file_extension": ".py",
   "mimetype": "text/x-python",
   "name": "python",
   "nbconvert_exporter": "python",
   "pygments_lexer": "ipython3",
   "version": "3.9.5"
  },
  "orig_nbformat": 4
 },
 "nbformat": 4,
 "nbformat_minor": 2
}
