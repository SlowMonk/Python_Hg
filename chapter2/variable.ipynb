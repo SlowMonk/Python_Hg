{
 "cells": [
  {
   "cell_type": "code",
   "execution_count": null,
   "metadata": {},
   "outputs": [],
   "source": [
    "''' \n",
    "변수는 이름이다. \n",
    "인간이 객체의 메모리의 이름을 찾아서 찾아가는것은 어려운 일이다. \n",
    "'''\n",
    "a = 3 "
   ]
  }
 ],
 "metadata": {
  "language_info": {
   "name": "python"
  },
  "orig_nbformat": 4
 },
 "nbformat": 4,
 "nbformat_minor": 2
}
