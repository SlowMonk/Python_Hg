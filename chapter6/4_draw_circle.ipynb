{
 "cells": [
  {
   "cell_type": "code",
   "execution_count": 1,
   "metadata": {},
   "outputs": [
    {
     "ename": "",
     "evalue": "",
     "output_type": "error",
     "traceback": [
      "\u001b[1;31mCanceled future for execute_request message before replies were done"
     ]
    },
    {
     "ename": "",
     "evalue": "",
     "output_type": "error",
     "traceback": [
      "\u001b[1;31mThe Kernel crashed while executing code in the the current cell or a previous cell. Please review the code in the cell(s) to identify a possible cause of the failure. Click <a href='https://aka.ms/vscodeJupyterKernelCrash'>here</a> for more info. View Jupyter <a href='command:jupyter.viewOutput'>log</a> for further details."
     ]
    }
   ],
   "source": [
    "import numpy as np\n",
    "from random import randint\n",
    "import cv2 as cv\n",
    "\n",
    "def draw_circle(event, x, y, flags, param):\n",
    "    if event == cv.EVENT_LBUTTONDOWN:\n",
    "        \n",
    "        cv.circle(img, (x,y), 5, (randint(0,255), randint(0,255), randint(0,255)), -1)\n",
    "        \n",
    "        global prev_click\n",
    "\n",
    "        if prev_click:\n",
    "            cv.line(img, prev_click, (x,y),(randint(0,255), randint(0,255), randint(0,255)),1)\n",
    "        prev_click = [x,y]\n",
    "\n",
    "\n",
    "img = np.full((512,512,3),(255,255,255), dtype= np.uint8)\n",
    "prev_click = None\n",
    "\n",
    "cv.namedWindow('Image')\n",
    "cv.setMouseCallback('Image',draw_circle)\n",
    "\n",
    "while True:\n",
    "    cv.imshow('Image', img)\n",
    "    if cv.waitKey(20) & 0xFF == ord('q'):\n",
    "        break\n",
    "cv.destroyAllWindows()"
   ]
  },
  {
   "cell_type": "code",
   "execution_count": null,
   "metadata": {},
   "outputs": [],
   "source": []
  }
 ],
 "metadata": {
  "kernelspec": {
   "display_name": "base",
   "language": "python",
   "name": "python3"
  },
  "language_info": {
   "codemirror_mode": {
    "name": "ipython",
    "version": 3
   },
   "file_extension": ".py",
   "mimetype": "text/x-python",
   "name": "python",
   "nbconvert_exporter": "python",
   "pygments_lexer": "ipython3",
   "version": "3.8.3"
  },
  "orig_nbformat": 4,
  "vscode": {
   "interpreter": {
    "hash": "d4d1e4263499bec80672ea0156c357c1ee493ec2b1c70f0acce89fc37c4a6abe"
   }
  }
 },
 "nbformat": 4,
 "nbformat_minor": 2
}
