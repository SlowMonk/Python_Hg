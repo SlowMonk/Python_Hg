{
 "cells": [
  {
   "cell_type": "code",
   "execution_count": 3,
   "metadata": {},
   "outputs": [
    {
     "name": "stdout",
     "output_type": "stream",
     "text": [
      "4.5.2\n"
     ]
    },
    {
     "ename": "",
     "evalue": "",
     "output_type": "error",
     "traceback": [
      "\u001b[1;31mCanceled future for execute_request message before replies were done"
     ]
    },
    {
     "ename": "",
     "evalue": "",
     "output_type": "error",
     "traceback": [
      "\u001b[1;31mThe Kernel crashed while executing code in the the current cell or a previous cell. Please review the code in the cell(s) to identify a possible cause of the failure. Click <a href='https://aka.ms/vscodeJupyterKernelCrash'>here</a> for more info. View Jupyter <a href='command:jupyter.viewOutput'>log</a> for further details."
     ]
    }
   ],
   "source": [
    "import cv2 \n",
    "import numpy as np\n",
    "\n",
    "print(cv2.__version__) # 4.5.2\n",
    "im = cv2.imread('example.png')\n",
    "\n",
    "cv2.imshow('Image', im)\n",
    "cv2.waitkey(0) #0 은 무한희 기다린다는 의미 \n",
    "cv2.destroyAllWindows()"
   ]
  },
  {
   "cell_type": "code",
   "execution_count": null,
   "metadata": {},
   "outputs": [],
   "source": [
    "import cv2\n",
    "cap = cv2.VideoCapture('/Gits/Python_Hg/chapter6/climbing.mp4')\n",
    "\n",
    "if not cap.isOpened():\n",
    "    print('error opening video file')\n",
    "\n",
    "fps = cap.get(cv2.CAP_PROP_FPS)\n",
    "\n",
    "print('fps', fps)\n",
    "while cap.isOpened():\n",
    "    ret, frame = cap.read()\n",
    "    cv2.imshow('frame', frame)\n",
    "\n",
    "    if cv2.waitKey(int(1000.0)/ fps) == ord('q'):\n",
    "        break\n",
    "\n",
    "cap.release()\n",
    "cv2.destroyAllWindows()"
   ]
  },
  {
   "cell_type": "code",
   "execution_count": 2,
   "metadata": {},
   "outputs": [
    {
     "ename": "NameError",
     "evalue": "name 'frame' is not defined",
     "output_type": "error",
     "traceback": [
      "\u001b[0;31m---------------------------------------------------------------------------\u001b[0m",
      "\u001b[0;31mNameError\u001b[0m                                 Traceback (most recent call last)",
      "Cell \u001b[0;32mIn [2], line 15\u001b[0m\n\u001b[1;32m     12\u001b[0m \u001b[39m#텍스트 추가 \u001b[39;00m\n\u001b[1;32m     13\u001b[0m font \u001b[39m=\u001b[39m cv2\u001b[39m.\u001b[39mFONT_HERSHEY_SIMPLEX\n\u001b[1;32m     14\u001b[0m frame \u001b[39m=\u001b[39m cv2\u001b[39m.\u001b[39mputText(\n\u001b[0;32m---> 15\u001b[0m     frame, \u001b[39m'\u001b[39m\u001b[39mfirework!\u001b[39m\u001b[39m'\u001b[39m, (\u001b[39m50\u001b[39m,\u001b[39m50\u001b[39m), font, \u001b[39m1\u001b[39m, (\u001b[39m255\u001b[39m,\u001b[39m255\u001b[39m,\u001b[39m255\u001b[39m), \u001b[39m2\u001b[39m, cv2\u001b[39m.\u001b[39mLINE_AA\n\u001b[1;32m     16\u001b[0m )\n\u001b[1;32m     18\u001b[0m \u001b[39m#비디오 코덱 설정\u001b[39;00m\n\u001b[1;32m     19\u001b[0m \u001b[39m# osx: mjpg, divx, x264\u001b[39;00m\n\u001b[1;32m     20\u001b[0m fourcc \u001b[39m=\u001b[39m cv2\u001b[39m.\u001b[39mVideoWriter_fourcc(\u001b[39m*\u001b[39m\u001b[39m\"\u001b[39m\u001b[39mX264\u001b[39m\u001b[39m\"\u001b[39m)\n",
      "\u001b[0;31mNameError\u001b[0m: name 'frame' is not defined"
     ]
    }
   ],
   "source": [
    "#  비디오 저장\n",
    "import cv2 \n",
    "cap = cv2.VideoCapture('climbing.mp4')\n",
    "if not cap.isOpened():\n",
    "    print('error opening video file')\n",
    "\n",
    "else:\n",
    "    fps = cap.get(cv2.CAP_PROP_FPS)\n",
    "    width = cap.get(cv2.CAP_PROP_FRAME_WIDTH)\n",
    "    height = cap.get(cv2.CAP_PROP_FRAME_HEIGHT)\n",
    "\n",
    "#텍스트 추가 \n",
    "font = cv2.FONT_HERSHEY_SIMPLEX\n",
    "frame = cv2.putText(\n",
    "    frame, 'firework!', (50,50), font, 1, (255,255,255), 2, cv2.LINE_AA\n",
    ")\n",
    "\n",
    "#비디오 코덱 설정\n",
    "# osx: mjpg, divx, x264\n",
    "fourcc = cv2.VideoWriter_fourcc(*\"X264\")\n",
    "out= cv2.VideoWriter('output.mp4', fourcc, fps, (int(width), int(height)))"
   ]
  },
  {
   "cell_type": "code",
   "execution_count": null,
   "metadata": {},
   "outputs": [],
   "source": [
    "# 마우스 클릭 이벤트 "
   ]
  }
 ],
 "metadata": {
  "kernelspec": {
   "display_name": "base",
   "language": "python",
   "name": "python3"
  },
  "language_info": {
   "codemirror_mode": {
    "name": "ipython",
    "version": 3
   },
   "file_extension": ".py",
   "mimetype": "text/x-python",
   "name": "python",
   "nbconvert_exporter": "python",
   "pygments_lexer": "ipython3",
   "version": "3.8.3"
  },
  "orig_nbformat": 4,
  "vscode": {
   "interpreter": {
    "hash": "d4d1e4263499bec80672ea0156c357c1ee493ec2b1c70f0acce89fc37c4a6abe"
   }
  }
 },
 "nbformat": 4,
 "nbformat_minor": 2
}
