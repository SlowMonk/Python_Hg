{
 "cells": [
  {
   "cell_type": "code",
   "execution_count": null,
   "metadata": {},
   "outputs": [],
   "source": [
    "#! pip install ffmpeg-python"
   ]
  },
  {
   "cell_type": "code",
   "execution_count": null,
   "metadata": {},
   "outputs": [],
   "source": []
  },
  {
   "cell_type": "code",
   "execution_count": null,
   "metadata": {},
   "outputs": [],
   "source": [
    "\n",
    "# print('Esto es una prueba ok')\n",
    "# print(np.pi)\n",
    "# img = cv2.imread('example.png')\n",
    "# cv2.imshow('imagen-zeros',img)\n",
    "# cv2.waitKey(0)\n",
    "# cv2.destroyAllWindows()"
   ]
  },
  {
   "cell_type": "code",
   "execution_count": null,
   "metadata": {},
   "outputs": [],
   "source": [
    "#ffmpeg.input('climbing.mp4').output('images/dest%05d.jpg', start_number=0).run(capture_stdout=True, capture_stderr=True)"
   ]
  },
  {
   "attachments": {},
   "cell_type": "markdown",
   "metadata": {},
   "source": [
    "# 가상 광고판 "
   ]
  },
  {
   "cell_type": "code",
   "execution_count": 1,
   "metadata": {},
   "outputs": [],
   "source": [
    "import os\n",
    "import ffmpeg\n",
    "import ffmpeg\n",
    "import cv2 as cv\n",
    "import numpy as np\n",
    "import cv2\n",
    "import numpy as np\n",
    "\n",
    "if not os.path.isdir('images'):\n",
    "    os.mkdir('images')\n",
    "\n"
   ]
  },
  {
   "cell_type": "code",
   "execution_count": 2,
   "metadata": {},
   "outputs": [],
   "source": [
    "#ffmpeg.input('climbing.mp4').output('images/dest%05d.jpg', start_number = 0).run(capture_stdout=True, capture_stderr=True)"
   ]
  },
  {
   "cell_type": "code",
   "execution_count": 3,
   "metadata": {},
   "outputs": [],
   "source": [
    "# def check_xy(event, x, y, flags, param):\n",
    "\n",
    "#     if event ==cv.EVENT_LBUTTONDOWN:\n",
    "#         print(f\"[{x}, {y}],\", end=\"\")\n",
    "    \n",
    "# img = cv.imread('images/dest00000.jpg')\n",
    "# #img = cv.imread('example.png')\n",
    "\n",
    "# cv.namedWindow(\"Image\")\n",
    "# cv.setMouseCallback(\"Image\", check_xy)\n",
    "\n",
    "# while True:\n",
    "#     cv.imshow(\"Image\", img)\n",
    "\n",
    "#     if cv.waitKey(20) & 0xFF == ord('q'):\n",
    "#         break\n",
    "# cv.destroyAllWindows()"
   ]
  },
  {
   "cell_type": "code",
   "execution_count": 4,
   "metadata": {},
   "outputs": [],
   "source": [
    "def virtual_billboard(im_src, im_dst):\n",
    "    pts_src = np.array([[272, 73],[317, 93],[226, 246],[300, 253]])\n",
    "    pts_dst = np.array([[230, 73],[323, 73],[311, 259],[231, 265]])\n",
    "    #pts_dst = np.array([[272, 73],[317, 93],[226, 246],[300, 253]])\n",
    "\n",
    "\n",
    "    h, status = cv2.findHomography(pts_src, pts_dst)\n",
    "    im_warp = cv2.warpPerspective(im_src, h, (im_dst.shape[1], im_dst.shape[0]))\n",
    "\n",
    "    #cv2.imshow(\"Image\", im_warp)\n",
    "    #cv2.waitKey(0)\n",
    "\n",
    "    cv2.fillConvexPoly(im_dst, pts_dst.astype(int), (0,0,0), cv2.LINE_AA)\n",
    "\n",
    "    return im_warp + im_dst"
   ]
  },
  {
   "cell_type": "code",
   "execution_count": 5,
   "metadata": {},
   "outputs": [],
   "source": [
    "im_src = cv2.imread('example.png')\n",
    "des_src = cv2.imread('images/dest00000.jpg')\n",
    "\n",
    "im_comp = virtual_billboard(im_src, des_src)"
   ]
  },
  {
   "cell_type": "code",
   "execution_count": 6,
   "metadata": {},
   "outputs": [],
   "source": [
    "cv2.imshow('warped soruce Image', im_comp)\n",
    "cv2.waitKey(0)\n",
    "cv2.destroyAllWindows()"
   ]
  },
  {
   "attachments": {},
   "cell_type": "markdown",
   "metadata": {},
   "source": [
    "# 모든 파일 바꾸기 "
   ]
  },
  {
   "cell_type": "code",
   "execution_count": null,
   "metadata": {},
   "outputs": [],
   "source": []
  }
 ],
 "metadata": {
  "kernelspec": {
   "display_name": "base",
   "language": "python",
   "name": "python3"
  },
  "language_info": {
   "codemirror_mode": {
    "name": "ipython",
    "version": 3
   },
   "file_extension": ".py",
   "mimetype": "text/x-python",
   "name": "python",
   "nbconvert_exporter": "python",
   "pygments_lexer": "ipython3",
   "version": "3.9.6"
  },
  "orig_nbformat": 4,
  "vscode": {
   "interpreter": {
    "hash": "d4d1e4263499bec80672ea0156c357c1ee493ec2b1c70f0acce89fc37c4a6abe"
   }
  }
 },
 "nbformat": 4,
 "nbformat_minor": 2
}
